{
 "cells": [
  {
   "cell_type": "code",
   "execution_count": null,
   "metadata": {},
   "outputs": [],
   "source": [
    "weight = float(input(\"Enter your weight in kg:\"))\n",
    "height = float(input(\"Enter your height in m:\"))\n",
    "print(weight)\n",
    "print(height)\n",
    "BMI = weight/height\n",
    "if BMI < 18.5:\n",
    "    print('You are in the underweight range.')\n",
    "elif (BMI > 18.5) and (BMI < 24.9):\n",
    "    print('You are in the healthy range.')\n",
    "elif (BMI > 24.9) and (BMI < 29.9):\n",
    "    print('You are in the overweight range.')\n",
    "elif (BMI > 30) and (BMI < 39.9):\n",
    "    print('You are in the obesity.')\n",
    "else:\n",
    "    print('Enter the correct weight and height')\n"
   ]
  }
 ],
 "metadata": {
  "language_info": {
   "name": "python"
  },
  "orig_nbformat": 4
 },
 "nbformat": 4,
 "nbformat_minor": 2
}
